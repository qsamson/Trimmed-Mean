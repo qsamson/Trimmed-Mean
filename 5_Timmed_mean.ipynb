{
  "nbformat": 4,
  "nbformat_minor": 0,
  "metadata": {
    "colab": {
      "name": "5% Timmed mean.ipynb",
      "provenance": [],
      "collapsed_sections": []
    },
    "kernelspec": {
      "name": "python3",
      "display_name": "Python 3"
    },
    "language_info": {
      "name": "python"
    }
  },
  "cells": [
    {
      "cell_type": "code",
      "execution_count": null,
      "metadata": {
        "id": "vaY6GbUlWuiv",
        "colab": {
          "base_uri": "https://localhost:8080/"
        },
        "outputId": "b93dabd3-502e-4c39-95bf-c9116d2e5327"
      },
      "outputs": [
        {
          "output_type": "stream",
          "name": "stderr",
          "text": [
            "/usr/local/lib/python3.7/dist-packages/ipykernel_launcher.py:3: FutureWarning: pandas.util.testing is deprecated. Use the functions in the public API at pandas.testing instead.\n",
            "  This is separate from the ipykernel package so we can avoid doing imports until\n"
          ]
        }
      ],
      "source": [
        "import numpy as np\n",
        "import pandas as pd\n",
        "import pandas.util.testing as tm\n",
        "from statsmodels.robust.scale import huber\n",
        "import array as arr\n",
        "from scipy.stats import cauchy\n",
        "import matplotlib.pyplot as plt\n",
        "from sklearn.metrics import roc_curve,auc\n",
        "from scipy.stats import wilcoxon\n",
        "from scipy import stats\n",
        "#import statistics as stats"
      ]
    },
    {
      "cell_type": "code",
      "source": [
        "df0 = pd.read_csv('Book1diseased.csv')\n",
        "df1 = pd.read_csv('Book1notdiseased.csv')\n",
        "#stats.trim_mean(df['ind'], 0.1)\n",
        "pernt = 0.05\n",
        "y = arr.array('d', [ stats.trim_mean(df0['obesity'], pernt),stats.trim_mean(df1['adiposity'], pernt)])\n",
        "print(y)\n",
        "#df1\n"
      ],
      "metadata": {
        "colab": {
          "base_uri": "https://localhost:8080/"
        },
        "id": "oDfSAjDzXb9b",
        "outputId": "36691ff1-b9fa-4eea-eb9d-942cdfe7d397"
      },
      "execution_count": null,
      "outputs": [
        {
          "output_type": "stream",
          "name": "stdout",
          "text": [
            "array('d', [25.765777777777778, 25.069777777777777])\n"
          ]
        }
      ]
    },
    {
      "cell_type": "code",
      "source": [
        "rdiseased = cauchy.rvs(loc = 25.765777777777778, scale =1, size=100)\n",
        "rdiseased"
      ],
      "metadata": {
        "id": "NEp6xWncaJnj"
      },
      "execution_count": null,
      "outputs": []
    },
    {
      "cell_type": "code",
      "source": [
        "rnotdiseased = cauchy.rvs(loc = 25.069777777777777, scale =1, size=100)\n",
        "rnotdiseased"
      ],
      "metadata": {
        "id": "jvvKgFcAaRnx"
      },
      "execution_count": null,
      "outputs": []
    },
    {
      "cell_type": "code",
      "source": [
        "def plot_roc(y_test,probs):\n",
        "    fpr,tpr,threshold=roc_curve(y_test,probs)\n",
        "    roc_auc=auc(fpr,tpr)\n",
        "    print('ROC AUC=%0.2f'%roc_auc)\n",
        "    plt.plot(fpr,tpr,label='AUC=%0.2f'%roc_auc,color='darkorange')\n",
        "    plt.legend(loc='lower right')\n",
        "    plt.plot([0,1],[0,1],'b--')\n",
        "    plt.xlim([0,1])\n",
        "    plt.ylim([0,1.05])\n",
        "    plt.xlabel('False Positive Rate')\n",
        "    plt.ylabel('True Positive Rate')\n",
        "    plt.show()\n"
      ],
      "metadata": {
        "id": "D_n25wTxtgQ4"
      },
      "execution_count": null,
      "outputs": []
    },
    {
      "cell_type": "code",
      "source": [
        "import pandas as pd\n",
        "import numpy as np\n",
        "from sklearn.model_selection import train_test_split\n",
        "from sklearn.linear_model import LogisticRegression\n",
        "from sklearn import metrics\n",
        "import matplotlib.pyplot as plt"
      ],
      "metadata": {
        "id": "5SGic0P6tiAH"
      },
      "execution_count": null,
      "outputs": []
    },
    {
      "cell_type": "code",
      "source": [
        "data = pd.read_csv('Trimm_mean_5.csv')\n"
      ],
      "metadata": {
        "id": "REp9WU47tmF3"
      },
      "execution_count": null,
      "outputs": []
    },
    {
      "cell_type": "code",
      "source": [
        "X = data[['Trimm1', 'Trimm2']]\n",
        "y = data['Outcome']\n",
        "\n",
        "#split the dataset into training (70%) and testing (30%) sets\n",
        "X_train,X_test,y_train,y_test = train_test_split(X,y,test_size=0.3,random_state=0) \n",
        "\n",
        "#instantiate the model\n",
        "log_regression = LogisticRegression()\n",
        "\n",
        "#fit the model using the training data\n",
        "log_regression.fit(X_train,y_train)"
      ],
      "metadata": {
        "colab": {
          "base_uri": "https://localhost:8080/"
        },
        "id": "9hKBi4FuvU67",
        "outputId": "69f44384-c120-40cb-e535-5c3d8a36e95b"
      },
      "execution_count": null,
      "outputs": [
        {
          "output_type": "execute_result",
          "data": {
            "text/plain": [
              "LogisticRegression()"
            ]
          },
          "metadata": {},
          "execution_count": 8
        }
      ]
    },
    {
      "cell_type": "code",
      "source": [
        "#define metrics\n",
        "y_pred_proba = log_regression.predict_proba(X_test)[::,1]\n",
        "fpr, tpr, _ = metrics.roc_curve(y_test,  y_pred_proba)\n",
        "\n",
        "#create ROC curve\n",
        "plt.plot(fpr,tpr)\n",
        "plt.ylabel('True Positive Rate')\n",
        "plt.xlabel('False Positive Rate')\n",
        "plt.grid()\n",
        "plt.show()"
      ],
      "metadata": {
        "colab": {
          "base_uri": "https://localhost:8080/",
          "height": 279
        },
        "id": "q6_RhydAv5Lq",
        "outputId": "0d25ffd3-0bc0-4cac-c25e-e1b136b259ea"
      },
      "execution_count": null,
      "outputs": [
        {
          "output_type": "display_data",
          "data": {
            "text/plain": [
              "<Figure size 432x288 with 1 Axes>"
            ],
            "image/png": "[encoded data removed]"
          },
          "metadata": {
            "needs_background": "light"
          }
        }
      ]
    },
    {
      "cell_type": "code",
      "source": [
        "#define metrics\n",
        "import math\n",
        "y_pred_proba = log_regression.predict_proba(X_test)[::,1]\n",
        "fpr, tpr, _ = metrics.roc_curve(y_test,  y_pred_proba)\n",
        "auc = metrics.roc_auc_score(y_test, y_pred_proba)\n",
        "\n",
        "const = 0.588;\n",
        "t = np.linspace(0,1,20)\n",
        "x = np.pi*t - np.pi/2\n",
        "y = const + np.tan(x)\n",
        "z = 1/2 + 1/np.pi*np.arctan(y)\n",
        "#auc2 = np.trapz(z,t)\n",
        "auc2 = 1/2 + 1/np.pi*np.arctan(const/math.sqrt(2))\n",
        "\n",
        "\n",
        "#create ROC curve\n",
        "h22, = plt.plot(fpr,tpr,color = 'steelblue', label=\"AUC=\"+str(auc))\n",
        "h2, =  plt.plot(fpr,tpr,color = 'steelblue', label=\"Empircal ROC\")\n",
        "plt.title(\"ROC plots\")\n",
        "plt.ylabel('True Positive Rate')\n",
        "plt.xlabel('False Positive Rate')\n",
        "#plt.plot(tpr, np.tan(tpr))\n",
        "h11, = plt.plot(t,z,color = 'darkorange',label=\"AUC=\"+str(auc2))\n",
        "h1, = plt.plot(t,z,color = 'darkorange', label=\"Bi-Cauchy ROC\")\n",
        "\n",
        "leg = plt.legend(handles=[h11,h22], loc='lower right')\n",
        "ax = plt.gca().add_artist(leg)\n",
        "leg = plt.legend(handles=[h2,h1], loc=3, bbox_to_anchor=(0.7,-0.3))\n",
        "plt.grid()\n",
        "plt.show()\n"
      ],
      "metadata": {
        "colab": {
          "base_uri": "https://localhost:8080/",
          "height": 325
        },
        "id": "XBGG0Eijv8K3",
        "outputId": "049972d9-35ca-4dbd-8ec2-b73a74b5550e"
      },
      "execution_count": null,
      "outputs": [
        {
          "output_type": "display_data",
          "data": {
            "text/plain": [
              "<Figure size 432x288 with 1 Axes>"
            ],
            "image/png": "[encoded data removed]"
          },
          "metadata": {
            "needs_background": "light"
          }
        }
      ]
    }
  ]
}